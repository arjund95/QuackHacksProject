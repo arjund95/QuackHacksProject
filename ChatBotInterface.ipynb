{
  "nbformat": 4,
  "nbformat_minor": 0,
  "metadata": {
    "colab": {
      "provenance": []
    },
    "kernelspec": {
      "name": "python3",
      "display_name": "Python 3"
    },
    "language_info": {
      "name": "python"
    }
  },
  "cells": [
    {
      "cell_type": "code",
      "execution_count": 28,
      "metadata": {
        "colab": {
          "base_uri": "https://localhost:8080/"
        },
        "id": "7noluJmhUTrh",
        "outputId": "c3279170-6951-4c70-b277-c54f4d773440"
      },
      "outputs": [
        {
          "output_type": "stream",
          "name": "stdout",
          "text": [
            "Requirement already satisfied: openai in /usr/local/lib/python3.11/dist-packages (1.68.2)\n",
            "Requirement already satisfied: anyio<5,>=3.5.0 in /usr/local/lib/python3.11/dist-packages (from openai) (4.9.0)\n",
            "Requirement already satisfied: distro<2,>=1.7.0 in /usr/local/lib/python3.11/dist-packages (from openai) (1.9.0)\n",
            "Requirement already satisfied: httpx<1,>=0.23.0 in /usr/local/lib/python3.11/dist-packages (from openai) (0.28.1)\n",
            "Requirement already satisfied: jiter<1,>=0.4.0 in /usr/local/lib/python3.11/dist-packages (from openai) (0.9.0)\n",
            "Requirement already satisfied: pydantic<3,>=1.9.0 in /usr/local/lib/python3.11/dist-packages (from openai) (2.10.6)\n",
            "Requirement already satisfied: sniffio in /usr/local/lib/python3.11/dist-packages (from openai) (1.3.1)\n",
            "Requirement already satisfied: tqdm>4 in /usr/local/lib/python3.11/dist-packages (from openai) (4.67.1)\n",
            "Requirement already satisfied: typing-extensions<5,>=4.11 in /usr/local/lib/python3.11/dist-packages (from openai) (4.12.2)\n",
            "Requirement already satisfied: idna>=2.8 in /usr/local/lib/python3.11/dist-packages (from anyio<5,>=3.5.0->openai) (3.10)\n",
            "Requirement already satisfied: certifi in /usr/local/lib/python3.11/dist-packages (from httpx<1,>=0.23.0->openai) (2025.1.31)\n",
            "Requirement already satisfied: httpcore==1.* in /usr/local/lib/python3.11/dist-packages (from httpx<1,>=0.23.0->openai) (1.0.7)\n",
            "Requirement already satisfied: h11<0.15,>=0.13 in /usr/local/lib/python3.11/dist-packages (from httpcore==1.*->httpx<1,>=0.23.0->openai) (0.14.0)\n",
            "Requirement already satisfied: annotated-types>=0.6.0 in /usr/local/lib/python3.11/dist-packages (from pydantic<3,>=1.9.0->openai) (0.7.0)\n",
            "Requirement already satisfied: pydantic-core==2.27.2 in /usr/local/lib/python3.11/dist-packages (from pydantic<3,>=1.9.0->openai) (2.27.2)\n"
          ]
        }
      ],
      "source": [
        "!pip install openai"
      ]
    },
    {
      "cell_type": "code",
      "source": [
        "import openai\n",
        "from getpass import getpass\n",
        "from openai import OpenAI\n",
        "import json\n",
        "import pandas as pd\n",
        "import requests"
      ],
      "metadata": {
        "id": "TsTfQMwIU0y0"
      },
      "execution_count": 44,
      "outputs": []
    },
    {
      "cell_type": "code",
      "source": [
        "api_key = getpass(\"Enter your OpenAI API key: \")"
      ],
      "metadata": {
        "colab": {
          "base_uri": "https://localhost:8080/"
        },
        "id": "p7mbSxltU8H_",
        "outputId": "0c7569e7-e474-4a87-8e34-d26bdd86a4ba"
      },
      "execution_count": 30,
      "outputs": [
        {
          "name": "stdout",
          "output_type": "stream",
          "text": [
            "Enter your OpenAI API key: ··········\n"
          ]
        }
      ]
    },
    {
      "cell_type": "code",
      "source": [
        "client = OpenAI(api_key = api_key)\n",
        "\n",
        "def ask_gpt(prompt):\n",
        "    response = client.chat.completions.create(\n",
        "        model=\"gpt-3.5-turbo\",  # or \"gpt-4o\"\n",
        "        messages=[\n",
        "            {\"role\": \"system\", \"content\": \"You are a helpful AI assistant for career and compensation guidance.\"},\n",
        "            {\"role\": \"user\", \"content\": prompt}\n",
        "        ],\n",
        "        temperature=0.7\n",
        "    )\n",
        "    return response.choices[0].message.content"
      ],
      "metadata": {
        "id": "pm68xP0lV8uq"
      },
      "execution_count": 31,
      "outputs": []
    },
    {
      "cell_type": "code",
      "source": [
        "user_question = \"What skills can help me double my salary?\"\n",
        "response = ask_gpt(user_question)\n",
        "print(\"💬 AI Assistant:\", response)"
      ],
      "metadata": {
        "colab": {
          "base_uri": "https://localhost:8080/"
        },
        "id": "q9VZY8B-W6wt",
        "outputId": "17379bc3-bcf1-4155-d78e-b0607001b4d3"
      },
      "execution_count": 32,
      "outputs": [
        {
          "output_type": "stream",
          "name": "stdout",
          "text": [
            "💬 AI Assistant: Doubling your salary typically requires a combination of valuable skills, experience, and strategic career planning. Here are some skills that can help you increase your earning potential:\n",
            "\n",
            "1. **Technical Skills**: Acquiring in-demand technical skills related to your industry can significantly boost your salary. This could include programming languages, data analysis skills, digital marketing expertise, or specialized technical knowledge.\n",
            "\n",
            "2. **Leadership Skills**: Developing strong leadership skills such as decision-making, strategic thinking, team management, and project management can position you for higher-paying leadership roles.\n",
            "\n",
            "3. **Communication Skills**: Effective communication skills are crucial in almost every profession. Being able to articulate your ideas clearly, negotiate effectively, and build strong relationships with clients and colleagues can lead to salary advancements.\n",
            "\n",
            "4. **Negotiation Skills**: Learning to negotiate your salary and benefits can help you secure higher compensation packages. Negotiation skills also come in handy when discussing promotions, bonuses, or project budgets.\n",
            "\n",
            "5. **Problem-Solving Skills**: Employers value employees who can identify problems, analyze situations, and come up with innovative solutions. Developing strong problem-solving skills can make you a valuable asset to your organization, potentially leading to salary increases.\n",
            "\n",
            "6. **Continuous Learning**: In today's rapidly evolving job market, continuous learning is essential. Staying updated on industry trends, acquiring new certifications, or pursuing advanced degrees can enhance your skills and make you more marketable for higher-paying positions.\n",
            "\n",
            "7. **Networking Skills**: Building a strong professional network can open up new opportunities for career advancement and higher salaries. Networking can help you access hidden job markets, gain insights into industry trends, and connect with potential mentors or sponsors who can advocate for your career growth.\n",
            "\n",
            "Remember, doubling your salary may not happen overnight and may require a combination of the skills mentioned above, as well as gaining relevant experience and taking strategic career steps. It's essential to assess your current skills, identify areas for improvement, and create a plan to enhance your market value and increase your earning potential over time.\n"
          ]
        }
      ]
    },
    {
      "cell_type": "code",
      "source": [
        "def classify_intent(user_input):\n",
        "    input_lower = user_input.lower()\n",
        "\n",
        "    if \"double my salary\" in input_lower or \"increase salary\" in input_lower:\n",
        "        return \"salary_growth\"\n",
        "    elif \"compare\" in input_lower or \"industry benchmark\" in input_lower:\n",
        "        return \"compensation_comparison\"\n",
        "    elif \"learn\" in input_lower or \"skills\" in input_lower:\n",
        "        return \"skill_recommendation\"\n",
        "    elif \"what if\" in input_lower or \"switch to\" in input_lower:\n",
        "        return \"what_if_simulation\"\n",
        "    else:\n",
        "        return \"general\""
      ],
      "metadata": {
        "id": "IXf9MdDvhPKB"
      },
      "execution_count": 33,
      "outputs": []
    },
    {
      "cell_type": "code",
      "source": [
        "def get_prompt(intent, user_input):\n",
        "    if intent == \"salary_growth\":\n",
        "        return f\"User asked: '{user_input}'. Give clear, data-based ways to significantly increase their salary.\"\n",
        "\n",
        "    elif intent == \"compensation_comparison\":\n",
        "        return f\"User asked: '{user_input}'. Compare their compensation to industry benchmarks using available data.\"\n",
        "\n",
        "    elif intent == \"skill_recommendation\":\n",
        "        return f\"User asked: '{user_input}'. Suggest specific, high-impact skills they can learn to earn more.\"\n",
        "\n",
        "    elif intent == \"what_if_simulation\":\n",
        "        return f\"User asked: '{user_input}'. Simulate the effect of that career move. Estimate how their compensation might change.\"\n",
        "\n",
        "    else:\n",
        "        return f\"Answer this career-related question in a helpful, structured way: '{user_input}'\""
      ],
      "metadata": {
        "id": "iwRgHBa6gNpq"
      },
      "execution_count": 34,
      "outputs": []
    },
    {
      "cell_type": "code",
      "source": [
        "def extract_user_info(user_input):\n",
        "    extraction_prompt = f\"\"\"\n",
        "Extract the following fields from this user input:\n",
        "- Job title (just the title, no extra words)\n",
        "- Salary (as a number, no $ or commas)\n",
        "- Location (if mentioned)\n",
        "\n",
        "User Input: \\\"{user_input}\\\"\n",
        "\n",
        "Respond ONLY in valid JSON like this:\n",
        "{{\"job_title\": \"...\", \"salary\": ..., \"location\": \"...\"}}\n",
        "If a field is missing, set its value to null.\n",
        "\"\"\"\n",
        "    response = ask_gpt(extraction_prompt)\n",
        "\n",
        "    # Try to parse JSON safely\n",
        "    try:\n",
        "        parsed = json.loads(response)\n",
        "    except json.JSONDecodeError:\n",
        "        return {\"job_title\": None, \"salary\": None, \"location\": None}\n",
        "\n",
        "    return parsed\n"
      ],
      "metadata": {
        "id": "-iQmKx3F09lx"
      },
      "execution_count": 41,
      "outputs": []
    },
    {
      "cell_type": "code",
      "source": [
        "job_title_to_series_id = {\n",
        "    \"software developer\": \"CEU3100000001\",  # OEWS for Software Developers (SOC 15-1252)\n",
        "    \"data scientist\": \"OEUN000000151255\",      # Example: change as needed\n",
        "    \"accountant\": \"OEUN000000132011\",          # Accountants and Auditors (SOC 13-2011)\n",
        "    \"registered nurse\": \"OEUN000000291141\",    # SOC 29-1141\n",
        "}"
      ],
      "metadata": {
        "id": "kMSt1uUBEg8c"
      },
      "execution_count": 52,
      "outputs": []
    },
    {
      "cell_type": "code",
      "source": [
        "def get_series_id(job_title):\n",
        "    return job_title_to_series_id.get(job_title.lower())\n"
      ],
      "metadata": {
        "id": "FUy__kGYEiax"
      },
      "execution_count": 48,
      "outputs": []
    },
    {
      "cell_type": "code",
      "source": [
        "def get_latest_salary_value(series_id):\n",
        "    data = get_bls_salary_data(series_id)\n",
        "\n",
        "    try:\n",
        "        series = data['Results']['series'][0]['data']\n",
        "        latest_entry = series[0]  # Most recent month\n",
        "        return latest_entry['value'], latest_entry['periodName'], latest_entry['year']\n",
        "    except Exception as e:\n",
        "        print(\"Error parsing BLS response:\", e)\n",
        "        return None"
      ],
      "metadata": {
        "id": "QcX2TAOEEoVS"
      },
      "execution_count": 49,
      "outputs": []
    },
    {
      "cell_type": "code",
      "source": [
        "def get_salary_fact(job_title):\n",
        "    series_id = get_series_id(job_title)\n",
        "    if not series_id:\n",
        "        return f\"Sorry, I don't have wage data for '{job_title}'.\"\n",
        "\n",
        "    result = get_latest_salary_value(series_id)\n",
        "    if not result:\n",
        "        return f\"Sorry, couldn't fetch salary data for '{job_title}'.\"\n",
        "\n",
        "    value, month, year = result\n",
        "    return f\"As of {month} {year}, the average wage for a {job_title} was ${value} annually (BLS data).\""
      ],
      "metadata": {
        "id": "g2uwVHyZEtek"
      },
      "execution_count": 50,
      "outputs": []
    },
    {
      "cell_type": "code",
      "source": [
        "print(get_salary_fact(\"software developer\"))"
      ],
      "metadata": {
        "colab": {
          "base_uri": "https://localhost:8080/"
        },
        "id": "GVmPaEldExql",
        "outputId": "8c01c94f-45e2-45f8-9699-1150d3b07ed2"
      },
      "execution_count": 53,
      "outputs": [
        {
          "output_type": "stream",
          "name": "stdout",
          "text": [
            "Error parsing BLS response: 'series'\n",
            "Sorry, couldn't fetch salary data for 'software developer'.\n"
          ]
        }
      ]
    },
    {
      "cell_type": "code",
      "source": [
        "bls_api_key = \"1f0edec30fe680b494b95fc3e644c613d1ac5327de84bd691a0efbdffbdd5747\"\n",
        "\n",
        "def get_bls_salary_data(series_id):\n",
        "    url = \"https://api.bls.gov/publicAPI/v2/timeseries/data/\"\n",
        "    headers = {\"Content-type\": \"application/json\"}\n",
        "\n",
        "    data = {\n",
        "        \"registrationKey\": bls_api_key,\n",
        "        \"seriesid\": [series_id],\n",
        "        \"startyear\": \"2022\",\n",
        "        \"endyear\": \"2023\"\n",
        "    }\n",
        "\n",
        "    response = requests.post(url, json=data, headers=headers)\n",
        "    return response.json()"
      ],
      "metadata": {
        "id": "WMj6rvTWCla3"
      },
      "execution_count": 46,
      "outputs": []
    },
    {
      "cell_type": "code",
      "source": [],
      "metadata": {
        "id": "aGjln4Cl7fE9"
      },
      "execution_count": null,
      "outputs": []
    },
    {
      "cell_type": "code",
      "source": [
        "def handle_user_query(user_input):\n",
        "    intent = classify_intent(user_input)\n",
        "\n",
        "    if intent == \"compensation_comparison\":\n",
        "        info = extract_user_info(user_input)\n",
        "        job_title = info.get(\"job_title\")\n",
        "        user_salary = info.get(\"salary\")\n",
        "\n",
        "        if not job_title or not user_salary:\n",
        "            return \"Sorry, I couldn't extract your job title and salary. Please include them in your question.\"\n",
        "\n",
        "        series_id = get_series_id(job_title)\n",
        "        if not series_id:\n",
        "            return f\"Sorry, I don't have data for the job title '{job_title}' yet.\"\n",
        "\n",
        "        fact = build_comparison_fact(job_title, user_salary, series_id)\n",
        "        prompt = f\"{fact}\\n\\nExplain this in plain English and suggest next steps to improve salary.\"\n",
        "        return ask_gpt(prompt)\n",
        "\n",
        "    elif intent == \"salary_estimation\":\n",
        "        info = extract_estimation_info(user_input)\n",
        "        if not info:\n",
        "            return \"Sorry, I couldn’t understand enough details. Please mention your job, skills, and experience.\"\n",
        "\n",
        "        est = estimate_salary(\n",
        "            job_title=info.get(\"job_title\"),\n",
        "            location=info.get(\"location\"),\n",
        "            experience_years=info.get(\"experience_years\", 0),\n",
        "            user_skills=info.get(\"skills\", []),\n",
        "            education=info.get(\"education\", \"\")\n",
        "        )\n",
        "\n",
        "        if est is None:\n",
        "            return f\"Sorry, I don't have base data for {info.get('job_title')} in {info.get('location')}.\"\n",
        "\n",
        "        explanation = explain_salary_estimate(est, info.get(\"job_title\"), info.get(\"skills\", []))\n",
        "        return explanation\n",
        "\n",
        "    # Fallback for everything else\n",
        "    prompt = get_prompt(intent, user_input)\n",
        "    return ask_gpt(prompt)\n"
      ],
      "metadata": {
        "id": "ZVpq4hZKgrPs"
      },
      "execution_count": 39,
      "outputs": []
    },
    {
      "cell_type": "code",
      "source": [
        "question = \"What if I switch to data science?\"\n",
        "print(\"🧠 Assistant:\", handle_user_query(question))"
      ],
      "metadata": {
        "colab": {
          "base_uri": "https://localhost:8080/"
        },
        "id": "TTOWPEjbhgpR",
        "outputId": "8e066a85-c84f-422a-a1ac-01a88eb8ca0c"
      },
      "execution_count": 55,
      "outputs": [
        {
          "output_type": "stream",
          "name": "stdout",
          "text": [
            "🧠 Assistant: Switching to a career in data science can have a significant impact on your compensation, as data scientists are in high demand due to the increasing importance of data-driven decision-making in various industries. Here's a general estimation of how your compensation might change:\n",
            "\n",
            "1. **Entry-Level Data Scientist:** If you are starting out as an entry-level data scientist, you can expect to earn a salary ranging from $60,000 to $90,000 per year, depending on your location, experience, and the company you work for.\n",
            "\n",
            "2. **Mid-Level Data Scientist:** As you gain more experience and expertise in data science, your salary could range from $90,000 to $130,000 per year. At this level, you may also be eligible for bonuses and additional perks based on your performance.\n",
            "\n",
            "3. **Senior Data Scientist:** With several years of experience and a track record of delivering impactful insights, you could earn a salary of $130,000 to $180,000 per year as a senior data scientist. Senior data scientists often lead projects, mentor junior team members, and play a key role in shaping data strategies for the organization.\n",
            "\n",
            "4. **Data Science Manager/Director:** If you progress to a managerial or directorial role in data science, your compensation could exceed $200,000 per year, including bonuses, stock options, and other benefits. In these positions, you would be responsible for overseeing data science teams, setting strategic goals, and driving innovation in data analytics.\n",
            "\n",
            "It's important to note that these are rough estimates and actual compensation can vary based on factors such as your location, the industry you work in, the size of the company, and your specific skills and experience. Additionally, continuing education, certifications, and specialization in niche areas of data science can further boost your earning potential.\n"
          ]
        }
      ]
    },
    {
      "cell_type": "code",
      "source": [],
      "metadata": {
        "id": "NkMUcclXm7Vl"
      },
      "execution_count": 36,
      "outputs": []
    }
  ]
}